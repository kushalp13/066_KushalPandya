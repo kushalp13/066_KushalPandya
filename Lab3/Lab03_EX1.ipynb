{
 "cells": [
  {
   "cell_type": "code",
   "execution_count": 1,
   "metadata": {
    "id": "aIfKMnlLTdCK"
   },
   "outputs": [],
   "source": [
    "import numpy as np\n",
    "import pandas as pd\n",
    "import matplotlib.pyplot as plt\n",
    "from sklearn import datasets, preprocessing\n",
    "from sklearn.naive_bayes import GaussianNB, MultinomialNB"
   ]
  },
  {
   "cell_type": "code",
   "execution_count": 2,
   "metadata": {
    "colab": {
     "base_uri": "https://localhost:8080/"
    },
    "id": "7BIK-nHLUEd5",
    "outputId": "d9c9fcea-ee48-4736-9a2d-891fda77522d"
   },
   "outputs": [
    {
     "name": "stdout",
     "output_type": "stream",
     "text": [
      "\n",
      "\n",
      "Heading : Outlook\n",
      "\n",
      "\n",
      "['R', 'R', 'O', 'S', 'S', 'S', 'O', 'R', 'R', 'S', 'R', 'O', 'O', 'S']\n",
      "\n",
      "\n",
      "After the tranformation of Outlook\n",
      "\n",
      "\n",
      "[1, 1, 0, 2, 2, 2, 0, 1, 1, 2, 1, 0, 0, 2]\n",
      "\n",
      "\n",
      "Heading : Temp\n",
      "\n",
      "\n",
      "['H', 'H', 'H', 'M', 'M', 'M', 'C', 'C', 'C', 'M', 'M', 'M', 'H', 'M']\n",
      "\n",
      "\n",
      "After the tranformation of Temp\n",
      "\n",
      "\n",
      "[1, 1, 1, 2, 2, 2, 0, 0, 0, 2, 2, 2, 1, 2]\n",
      "\n",
      "\n",
      "Heading : Wind\n",
      "\n",
      "\n",
      "['F', 'T', 'F', 'F', 'F', 'T', 'T', 'F', 'F', 'F', 'T', 'T', 'F', 'T']\n",
      "\n",
      "\n",
      "After the tranformation of Wind\n",
      "\n",
      "\n",
      "[0, 1, 0, 0, 0, 1, 1, 0, 0, 0, 1, 1, 0, 1]\n",
      "\n",
      "\n",
      "Heading : Humidity\n",
      "\n",
      "\n",
      "['Normal', 'High', 'Normal', 'Normal', 'Normal', 'Low', 'Normal', 'Normal', 'Low', 'High', 'High', 'Low', 'Normal', 'Normal']\n",
      "\n",
      "\n",
      "After the tranformation of Humidity\n",
      "\n",
      "\n",
      "[2, 0, 2, 2, 2, 1, 2, 2, 1, 0, 0, 1, 2, 2]\n",
      "\n",
      "\n",
      "Heading : Class\n",
      "\n",
      "\n",
      "['N', 'N', 'Y', 'N', 'Y', 'Y', 'Y', 'Y', 'Y', 'Y', 'Y', 'Y', 'Y', 'N']\n",
      "\n",
      "\n",
      "After the tranformation of Class\n",
      "\n",
      "\n",
      "[0, 0, 1, 0, 1, 1, 1, 1, 1, 1, 1, 1, 1, 0]\n"
     ]
    }
   ],
   "source": [
    "\n",
    "\n",
    "org_data = pd.read_csv(\"Dataset2.csv\")\n",
    "\n",
    "\n",
    "label_encoder = preprocessing.LabelEncoder()\n",
    "\n",
    "for data in org_data:\n",
    "  print(f\"\\n\\nHeading : {data}\\n\\n\")\n",
    "  print(list(org_data[data]))\n",
    "  org_data[data] = label_encoder.fit_transform(org_data[data])\n",
    "  print(f\"\\n\\nAfter the tranformation of {data}\\n\\n\")\n",
    "  print(list(org_data[data]))"
   ]
  },
  {
   "cell_type": "code",
   "execution_count": 3,
   "metadata": {
    "colab": {
     "base_uri": "https://localhost:8080/"
    },
    "id": "ZgOElmnbXIWT",
    "outputId": "09d8103c-11ac-4d69-c543-458bae4012ba"
   },
   "outputs": [
    {
     "name": "stdout",
     "output_type": "stream",
     "text": [
      "After combined!\n",
      "Outlook, Temp, Wind, Humidity\n",
      "\n",
      "(1, 1, 0, 2)\n",
      "(1, 1, 1, 0)\n",
      "(0, 1, 0, 2)\n",
      "(2, 2, 0, 2)\n",
      "(2, 2, 0, 2)\n",
      "(2, 2, 1, 1)\n",
      "(0, 0, 1, 2)\n",
      "(1, 0, 0, 2)\n",
      "(1, 0, 0, 1)\n",
      "(2, 2, 0, 0)\n",
      "(1, 2, 1, 0)\n",
      "(0, 2, 1, 1)\n",
      "(0, 1, 0, 2)\n",
      "(2, 2, 1, 2)\n"
     ]
    }
   ],
   "source": [
    "\n",
    "combined_features = tuple(zip(org_data[\"Outlook\"], org_data[\"Temp\"], org_data[\"Wind\"], org_data[\"Humidity\"]))\n",
    "print(\"After combined!\")\n",
    "\n",
    "print(\"Outlook, Temp, Wind, Humidity\\n\")\n",
    "for pair in combined_features:\n",
    "    print(pair)"
   ]
  },
  {
   "cell_type": "code",
   "execution_count": 4,
   "metadata": {
    "colab": {
     "base_uri": "https://localhost:8080/"
    },
    "id": "gb-X57r5YwtC",
    "outputId": "48903c62-65f3-4bfc-c6c4-1bbd4134a023"
   },
   "outputs": [
    {
     "name": "stdout",
     "output_type": "stream",
     "text": [
      "[1 1]\n"
     ]
    }
   ],
   "source": [
    "\n",
    "from sklearn.model_selection import train_test_split\n",
    "\n",
    "# Train test division rabge = 90% - 10%  (roll number 66)\n",
    "X_train, X_test, Y_train, Y_test = train_test_split(combined_features, org_data[\"Class\"], test_size = 0.10, random_state = 66)\n",
    "\n",
    "model = MultinomialNB()\n",
    "model.fit(X_train, Y_train)\n",
    "\n",
    "Y_predicted = model.predict(X_test)\n",
    "\n",
    "print(Y_predicted)\n",
    "\n"
   ]
  },
  {
   "cell_type": "code",
   "execution_count": 5,
   "metadata": {
    "colab": {
     "base_uri": "https://localhost:8080/"
    },
    "id": "yYgg7Qzgasiv",
    "outputId": "e6e6c896-2926-40f5-ff60-8c87c891184b"
   },
   "outputs": [
    {
     "name": "stdout",
     "output_type": "stream",
     "text": [
      "Accuracy is 0.5\n"
     ]
    }
   ],
   "source": [
    "from sklearn import metrics\n",
    "\n",
    "print(f\"Accuracy is {metrics.accuracy_score(Y_test, Y_predicted)}\")"
   ]
  },
  {
   "cell_type": "code",
   "execution_count": 6,
   "metadata": {
    "colab": {
     "base_uri": "https://localhost:8080/"
    },
    "id": "VfnN9McPewK2",
    "outputId": "30289183-75f5-48e8-a594-ae19f315685d"
   },
   "outputs": [
    {
     "name": "stdout",
     "output_type": "stream",
     "text": [
      "precision = 0.5\n",
      "recall = 1.0\n"
     ]
    }
   ],
   "source": [
    "from sklearn.metrics import precision_score\n",
    "from sklearn.metrics import recall_score\n",
    "\n",
    "\n",
    "precision = precision_score(Y_test, Y_predicted)\n",
    "recall = recall_score(Y_test, Y_predicted)\n",
    "\n",
    "\n",
    "print(f\"precision = {precision}\")\n",
    "print(f\"recall = {recall}\")"
   ]
  },
  {
   "cell_type": "code",
   "execution_count": 7,
   "metadata": {
    "colab": {
     "base_uri": "https://localhost:8080/"
    },
    "id": "giL6nNttcnYs",
    "outputId": "ba1403c8-0556-4c87-de68-dfe3e1e17454"
   },
   "outputs": [
    {
     "name": "stdout",
     "output_type": "stream",
     "text": [
      "Prediction = [1]\n"
     ]
    }
   ],
   "source": [
    "# Temprature = \"Mild\" and Weather = \"sunny\"\n",
    "\n",
    "output = model.predict([[2, 2, 1, 2]])\n",
    "print(f\"Prediction = {output}\")"
   ]
  },
  {
   "cell_type": "code",
   "execution_count": 8,
   "metadata": {
    "colab": {
     "base_uri": "https://localhost:8080/"
    },
    "id": "oWUSSiB8bpSq",
    "outputId": "b0c1fde0-3304-48d1-974c-2f0732247742"
   },
   "outputs": [
    {
     "name": "stdout",
     "output_type": "stream",
     "text": [
      "Prediction = [1]\n"
     ]
    }
   ],
   "source": [
    "\n",
    "# Temprature = \"Hot\" and Weather = \"overcast\"\n",
    "\n",
    "output = model.predict([[0, 1, 1, 2]])\n",
    "print(f\"Prediction = {output}\")"
   ]
  }
 ],
 "metadata": {
  "colab": {
   "collapsed_sections": [],
   "name": "Lab03_play_or_not.ipynb",
   "provenance": []
  },
  "kernelspec": {
   "display_name": "Python 3 (ipykernel)",
   "language": "python",
   "name": "python3"
  },
  "language_info": {
   "codemirror_mode": {
    "name": "ipython",
    "version": 3
   },
   "file_extension": ".py",
   "mimetype": "text/x-python",
   "name": "python",
   "nbconvert_exporter": "python",
   "pygments_lexer": "ipython3",
   "version": "3.9.6"
  }
 },
 "nbformat": 4,
 "nbformat_minor": 4
}
