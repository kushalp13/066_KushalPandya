{
  "nbformat": 4,
  "nbformat_minor": 0,
  "metadata": {
    "colab": {
      "name": "KMeans_Clustering_BreastCancer.ipynb",
      "provenance": [],
      "collapsed_sections": [],
      "include_colab_link": true
    },
    "kernelspec": {
      "name": "python3",
      "display_name": "Python 3"
    },
    "language_info": {
      "name": "python"
    }
  },
  "cells": [
    {
      "cell_type": "markdown",
      "metadata": {
        "id": "view-in-github",
        "colab_type": "text"
      },
      "source": [
        "<a href=\"https://colab.research.google.com/github/kushalp13/066_KushalPandya/blob/main/Lab8/KMeans_Clustering_BreastCancer.ipynb\" target=\"_parent\"><img src=\"https://colab.research.google.com/assets/colab-badge.svg\" alt=\"Open In Colab\"/></a>"
      ]
    },
    {
      "cell_type": "markdown",
      "metadata": {
        "id": "bJTjaM75DPmE"
      },
      "source": [
        "## Write a python program to perform K-Means clustering on Breast Cancer Data"
      ]
    },
    {
      "cell_type": "code",
      "metadata": {
        "id": "Y9eI8rV7DSBD"
      },
      "source": [
        "import numpy as np \n",
        "import pandas as pd \n",
        "from sklearn import datasets\n",
        "from sklearn.cluster import KMeans\n",
        "from sklearn.metrics import accuracy_score, confusion_matrix\n",
        "import matplotlib.pyplot as plt"
      ],
      "execution_count": 1,
      "outputs": []
    },
    {
      "cell_type": "code",
      "metadata": {
        "colab": {
          "base_uri": "https://localhost:8080/"
        },
        "id": "-xHOOElmDTeb",
        "outputId": "18dc3d1e-92f3-4f71-c33e-97c1e87775b3"
      },
      "source": [
        "dataset=datasets.load_breast_cancer()\n",
        "dataset\n",
        "\n",
        "print(dataset.data.shape)\n",
        "print(dataset.target.shape)"
      ],
      "execution_count": 2,
      "outputs": [
        {
          "output_type": "stream",
          "name": "stdout",
          "text": [
            "(569, 30)\n",
            "(569,)\n"
          ]
        }
      ]
    },
    {
      "cell_type": "code",
      "metadata": {
        "colab": {
          "base_uri": "https://localhost:8080/"
        },
        "id": "LQGvakurDU7r",
        "outputId": "a07bfeeb-f16a-4994-a0a6-4a11a0571a16"
      },
      "source": [
        "print(dataset.feature_names)"
      ],
      "execution_count": 3,
      "outputs": [
        {
          "output_type": "stream",
          "name": "stdout",
          "text": [
            "['mean radius' 'mean texture' 'mean perimeter' 'mean area'\n",
            " 'mean smoothness' 'mean compactness' 'mean concavity'\n",
            " 'mean concave points' 'mean symmetry' 'mean fractal dimension'\n",
            " 'radius error' 'texture error' 'perimeter error' 'area error'\n",
            " 'smoothness error' 'compactness error' 'concavity error'\n",
            " 'concave points error' 'symmetry error' 'fractal dimension error'\n",
            " 'worst radius' 'worst texture' 'worst perimeter' 'worst area'\n",
            " 'worst smoothness' 'worst compactness' 'worst concavity'\n",
            " 'worst concave points' 'worst symmetry' 'worst fractal dimension']\n"
          ]
        }
      ]
    },
    {
      "cell_type": "code",
      "metadata": {
        "colab": {
          "base_uri": "https://localhost:8080/"
        },
        "id": "yqZPwWdJDWQb",
        "outputId": "ca33bab9-3a96-4239-cefe-0200db707e71"
      },
      "source": [
        "print(dataset.target_names)"
      ],
      "execution_count": 4,
      "outputs": [
        {
          "output_type": "stream",
          "name": "stdout",
          "text": [
            "['malignant' 'benign']\n"
          ]
        }
      ]
    },
    {
      "cell_type": "code",
      "metadata": {
        "colab": {
          "base_uri": "https://localhost:8080/",
          "height": 279
        },
        "id": "YKLUqJoyDYFD",
        "outputId": "5731cd2a-9272-4d1a-97ec-6db91d233b08"
      },
      "source": [
        "# 0 for benign and 1 for malignant\n",
        "\n",
        "plt.scatter(dataset.data[:, 0], dataset.target, c='orange', marker='*')\n",
        "plt.xlabel('Features')\n",
        "plt.ylabel('Type of Cancer')\n",
        "plt.show()"
      ],
      "execution_count": 5,
      "outputs": [
        {
          "output_type": "display_data",
          "data": {
            "image/png": "[encoded data removed]",
            "text/plain": [
              "<Figure size 432x288 with 1 Axes>"
            ]
          },
          "metadata": {
            "needs_background": "light"
          }
        }
      ]
    },
    {
      "cell_type": "code",
      "metadata": {
        "colab": {
          "base_uri": "https://localhost:8080/"
        },
        "id": "nPxnLAgpDczz",
        "outputId": "fb1560c4-896c-4f5d-c5cb-3074bdb38563"
      },
      "source": [
        "kmeans = KMeans(n_clusters=7, random_state = 66)\n",
        "prediction = kmeans.fit_predict(dataset.data)\n",
        "print(prediction)"
      ],
      "execution_count": 6,
      "outputs": [
        {
          "output_type": "stream",
          "name": "stdout",
          "text": [
            "[1 1 3 5 3 5 3 0 5 5 6 6 6 0 5 0 0 6 1 5 5 2 0 1 1 6 0 6 6 6 3 0 6 3 6 6 0\n",
            " 5 0 5 0 2 3 0 5 3 2 5 5 5 5 5 5 6 0 2 1 0 5 2 2 2 0 2 0 0 2 2 2 5 3 2 3 0\n",
            " 5 6 5 3 3 5 5 5 4 6 5 3 0 3 5 0 0 0 0 5 0 3 5 2 5 0 0 2 5 2 2 0 5 5 1 2 2\n",
            " 5 5 2 2 5 2 0 6 6 2 3 1 0 5 5 0 3 0 3 5 6 6 0 3 5 5 2 0 2 2 6 2 5 2 5 5 0\n",
            " 0 5 5 2 2 2 5 5 6 6 5 2 5 3 1 5 1 0 2 6 3 0 5 0 0 2 2 2 2 0 5 5 4 1 6 2 0\n",
            " 2 6 5 2 5 0 5 2 5 0 5 0 6 3 0 5 6 1 0 5 0 2 6 5 0 3 5 4 6 0 0 5 2 1 1 5 5\n",
            " 2 0 5 0 2 0 5 5 6 2 2 1 2 5 4 3 0 6 5 5 2 5 3 2 5 5 2 2 1 2 1 6 1 0 1 0 6\n",
            " 0 3 6 6 0 6 4 2 5 5 2 5 2 1 2 6 2 2 6 5 5 3 5 3 0 5 5 5 5 2 2 0 0 5 5 5 5\n",
            " 2 5 0 2 1 5 3 2 2 2 5 2 5 5 2 0 5 2 2 5 5 3 2 5 2 3 5 1 5 5 0 5 6 0 0 5 2\n",
            " 2 5 6 5 3 2 4 0 2 2 3 5 2 5 0 2 5 5 0 4 0 2 5 5 5 2 2 5 5 5 0 5 3 3 5 4 1\n",
            " 6 0 3 1 5 0 2 5 5 2 2 2 5 5 5 0 5 0 2 6 2 2 6 1 5 5 5 5 2 5 6 5 5 5 5 2 0\n",
            " 5 6 5 5 2 2 0 0 5 2 3 5 2 5 0 2 5 2 2 2 2 2 5 0 5 3 3 0 0 5 0 0 5 2 6 5 2\n",
            " 6 5 6 0 0 1 5 3 5 0 5 5 5 5 5 2 3 4 0 2 5 5 5 2 6 5 2 5 0 5 2 5 0 5 2 0 5\n",
            " 0 5 5 0 5 0 3 5 6 5 6 6 5 5 0 5 5 3 3 0 0 5 4 2 2 5 2 0 0 2 0 0 0 0 2 3 3\n",
            " 5 5 2 4 2 5 2 2 5 5 5 5 5 5 0 3 2 3 0 2 2 2 2 0 0 5 5 5 2 2 2 2 2 2 5 2 5\n",
            " 2 2 2 0 2 5 2 0 3 1 3 6 3 2]\n"
          ]
        }
      ]
    },
    {
      "cell_type": "code",
      "metadata": {
        "colab": {
          "base_uri": "https://localhost:8080/"
        },
        "id": "ysFYKizDDeX8",
        "outputId": "be570d9f-94aa-46f8-828f-14d49f904983"
      },
      "source": [
        "kmeans.cluster_centers_.shape\n",
        "print(kmeans.cluster_centers_)"
      ],
      "execution_count": 7,
      "outputs": [
        {
          "output_type": "stream",
          "name": "stdout",
          "text": [
            "[[1.46887963e+01 1.95175000e+01 9.59490741e+01 6.67722222e+02\n",
            "  9.78631481e-02 1.16021389e-01 1.00823796e-01 5.49541389e-02\n",
            "  1.82530556e-01 6.24542593e-02 3.65333333e-01 1.08638889e+00\n",
            "  2.61304630e+00 3.30778704e+01 6.19647222e-03 2.71290463e-02\n",
            "  3.33842222e-02 1.25968796e-02 1.90940556e-02 3.65372963e-03\n",
            "  1.68685185e+01 2.64219444e+01 1.11946296e+02 8.73078704e+02\n",
            "  1.34961944e-01 3.05093426e-01 3.35001944e-01 1.35408704e-01\n",
            "  3.00441667e-01 8.72450000e-02]\n",
            " [2.06370370e+01 2.16944444e+01 1.37140741e+02 1.33298519e+03\n",
            "  1.05146296e-01 1.66082963e-01 2.13644444e-01 1.17845556e-01\n",
            "  1.94903704e-01 6.13200000e-02 8.25648148e-01 1.12337778e+00\n",
            "  5.75433333e+00 1.11170000e+02 6.60281481e-03 3.48644444e-02\n",
            "  4.73696296e-02 1.57370370e-02 1.87700000e-02 4.05755556e-03\n",
            "  2.62940741e+01 2.91481481e+01 1.75992593e+02 2.12474074e+03\n",
            "  1.46185185e-01 4.09985185e-01 5.37144444e-01 2.22266667e-01\n",
            "  3.22714815e-01 9.06803704e-02]\n",
            " [1.03554000e+01 1.78704444e+01 6.62887407e+01 3.30835556e+02\n",
            "  9.57749630e-02 7.99492593e-02 4.51093681e-02 2.06685185e-02\n",
            "  1.81264444e-01 6.66965926e-02 2.84392593e-01 1.43038593e+00\n",
            "  1.97211778e+00 1.80684519e+01 9.08735556e-03 2.40969111e-02\n",
            "  3.05678570e-02 1.00769630e-02 2.37940741e-02 4.44711852e-03\n",
            "  1.13863630e+01 2.34357778e+01 7.36892593e+01 3.98189630e+02\n",
            "  1.31491556e-01 1.73767926e-01 1.53953578e-01 6.11321481e-02\n",
            "  2.76305185e-01 8.38474074e-02]\n",
            " [1.93304000e+01 2.18666000e+01 1.27704000e+02 1.16244000e+03\n",
            "  1.00130400e-01 1.46810000e-01 1.72858400e-01 9.79644000e-02\n",
            "  1.93584000e-01 6.02716000e-02 7.01468000e-01 1.22631800e+00\n",
            "  4.90694000e+00 8.50508000e+01 6.69096000e-03 3.24586000e-02\n",
            "  4.38970000e-02 1.60523200e-02 2.17172000e-02 3.87178000e-03\n",
            "  2.32956000e+01 2.89760000e+01 1.55636000e+02 1.65350000e+03\n",
            "  1.39260000e-01 3.59008000e-01 4.49706000e-01 1.87610000e-01\n",
            "  3.17270000e-01 8.56706000e-02]\n",
            " [2.45981818e+01 2.27290909e+01 1.64181818e+02 1.91300000e+03\n",
            "  1.03649091e-01 1.70829091e-01 2.47209091e-01 1.43200909e-01\n",
            "  1.81654545e-01 5.87154545e-02 1.35242727e+00 1.16268182e+00\n",
            "  9.72090909e+00 2.30309091e+02 6.71336364e-03 3.14645455e-02\n",
            "  4.31036364e-02 1.60718182e-02 1.93036364e-02 3.54445455e-03\n",
            "  3.14572727e+01 2.99572727e+01 2.12781818e+02 3.05581818e+03\n",
            "  1.39772727e-01 3.70072727e-01 4.88136364e-01 2.31190909e-01\n",
            "  2.75718182e-01 8.03945455e-02]\n",
            " [1.27283871e+01 1.83433333e+01 8.20204301e+01 4.99697849e+02\n",
            "  9.25786022e-02 8.39732258e-02 5.05780430e-02 2.90620806e-02\n",
            "  1.72969892e-01 6.19564516e-02 2.76982258e-01 1.13410323e+00\n",
            "  1.97540215e+00 2.15443925e+01 6.31858065e-03 2.05985753e-02\n",
            "  2.40212790e-02 9.72251613e-03 1.93193548e-02 3.29043817e-03\n",
            "  1.40926882e+01 2.43848925e+01 9.19256989e+01 6.09299462e+02\n",
            "  1.26103763e-01 2.09617688e-01 1.94102710e-01 8.56807043e-02\n",
            "  2.77558602e-01 8.08293548e-02]\n",
            " [1.71592308e+01 2.14317308e+01 1.12867308e+02 9.18378846e+02\n",
            "  9.85563462e-02 1.29301538e-01 1.34806538e-01 7.78632692e-02\n",
            "  1.88171154e-01 6.04567308e-02 5.56396154e-01 1.28034038e+00\n",
            "  3.98603846e+00 6.04876923e+01 6.69957692e-03 3.02370385e-02\n",
            "  3.84507692e-02 1.49702885e-02 1.95350000e-02 4.04198077e-03\n",
            "  2.03119231e+01 2.86926923e+01 1.35019231e+02 1.26955769e+03\n",
            "  1.36301538e-01 3.11314615e-01 3.74048077e-01 1.62933654e-01\n",
            "  3.09009615e-01 8.40925000e-02]]\n"
          ]
        }
      ]
    },
    {
      "cell_type": "code",
      "metadata": {
        "colab": {
          "base_uri": "https://localhost:8080/",
          "height": 281
        },
        "id": "Si_Ixli6DgCV",
        "outputId": "43fd91ab-33f9-4477-f01e-418fa0bedf11"
      },
      "source": [
        "plt.scatter(dataset.data[:, 0], dataset.target, c='orange', marker='*')\n",
        "plt.scatter(kmeans.cluster_centers_[:, 0], kmeans.cluster_centers_[:, 1], c='green', marker='+')\n",
        "plt.title('Data points and cluster centroids')\n",
        "plt.show()"
      ],
      "execution_count": 8,
      "outputs": [
        {
          "output_type": "display_data",
          "data": {
            "image/png": "[encoded data removed]",
            "text/plain": [
              "<Figure size 432x288 with 1 Axes>"
            ]
          },
          "metadata": {
            "needs_background": "light"
          }
        }
      ]
    },
    {
      "cell_type": "code",
      "metadata": {
        "id": "d_CxG_zRDnaM"
      },
      "source": [
        "from scipy.stats import mode\n",
        "labels = np.zeros_like(prediction)\n",
        "for i in range(10):\n",
        "  mask = (prediction == i)\n",
        "  labels[mask] = mode(dataset.target[mask])[0]"
      ],
      "execution_count": 9,
      "outputs": []
    },
    {
      "cell_type": "code",
      "metadata": {
        "colab": {
          "base_uri": "https://localhost:8080/"
        },
        "id": "n2xs4KITEKPd",
        "outputId": "779bf69e-6abc-41e8-fe94-eb3b9d6740ba"
      },
      "source": [
        "accuracy_score(dataset.target, labels)"
      ],
      "execution_count": 10,
      "outputs": [
        {
          "output_type": "execute_result",
          "data": {
            "text/plain": [
              "0.8840070298769771"
            ]
          },
          "metadata": {},
          "execution_count": 10
        }
      ]
    },
    {
      "cell_type": "code",
      "metadata": {
        "colab": {
          "base_uri": "https://localhost:8080/",
          "height": 296
        },
        "id": "JIVOhUgID18k",
        "outputId": "01c9b6ca-cfef-4bde-c089-dfac16baef54"
      },
      "source": [
        "import seaborn as sns\n",
        "\n",
        "mat = confusion_matrix(dataset.target, labels)\n",
        "ax = sns.heatmap(mat.T, square=True, annot=True, cbar=False, xticklabels=dataset.target_names, yticklabels=dataset.target_names)\n",
        "\n",
        "plt.xlabel('true label')\n",
        "plt.ylabel('predicted label')"
      ],
      "execution_count": 11,
      "outputs": [
        {
          "output_type": "execute_result",
          "data": {
            "text/plain": [
              "Text(91.68, 0.5, 'predicted label')"
            ]
          },
          "metadata": {},
          "execution_count": 11
        },
        {
          "output_type": "display_data",
          "data": {
            "image/png": "[encoded data removed]",
            "text/plain": [
              "<Figure size 432x288 with 1 Axes>"
            ]
          },
          "metadata": {
            "needs_background": "light"
          }
        }
      ]
    }
  ]
}